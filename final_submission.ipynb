{
 "cells": [
  {
   "cell_type": "code",
   "execution_count": 1,
   "metadata": {
    "ExecuteTime": {
     "end_time": "2019-10-07T20:01:45.869908Z",
     "start_time": "2019-10-07T20:01:45.627086Z"
    }
   },
   "outputs": [],
   "source": [
    "import pandas as pd\n",
    "import os\n",
    "\n",
    "PATH = os.path.join(os.getcwd(), 'data')\n",
    "\n",
    "PATH_SUB = os.path.join(PATH, 'submissions')"
   ]
  },
  {
   "cell_type": "code",
   "execution_count": null,
   "metadata": {},
   "outputs": [],
   "source": [
    "sub_00015 = pd.read_csv(os.path.join(PATH_SUB, 'sub_0.0015.csv'))\n",
    "sub_00015_5 = pd.read_csv(os.path.join(PATH_SUB, 'sub_0.0015_5.csv'))\n",
    "sub_00015_10 = pd.read_csv(os.path.join(PATH_SUB, 'sub_0.0015_10.csv'))\n",
    "sub_mytk_08 = pd.read_csv(os.path.join(PATH_SUB, 'sub_mytk_08.csv'))\n",
    "sub_mytk_09 = pd.read_csv(os.path.join(PATH_SUB, 'sub_mytk_09.csv'))\n",
    "sub_mytk_20 = pd.read_csv(os.path.join(PATH_SUB, 'sub_mytk_20.csv'))\n",
    "\n",
    "\n",
    "sub_mytk_07 = pd.read_csv(os.path.join(PATH_SUB, 'sub_mytk_07.csv'))"
   ]
  },
  {
   "cell_type": "code",
   "execution_count": null,
   "metadata": {},
   "outputs": [],
   "source": [
    "from collections import Counter \n",
    "\n",
    "list_counters = []\n",
    "\n",
    "# best model\n",
    "models1 = [sub_mytk_07.category]\n",
    "\n",
    "# previous models\n",
    "models2 = [sub_mytk_08.category, sub_mytk_09.category, sub_mytk_20.category,\n",
    "           sub_00015.category, sub_00015_5.category, sub_00015_10.category]\n",
    "\n",
    "\n",
    "for i in range(len(sub08_03.category)):\n",
    "    cnt = Counter()\n",
    "    \n",
    "    for model in models1:\n",
    "        cnt[model[i]] += 5\n",
    "        \n",
    "    for model in models2:\n",
    "        cnt[model[i]] += 2\n",
    "    \n",
    "    list_counters.append(cnt)\n",
    "\n",
    "\n"
   ]
  },
  {
   "cell_type": "code",
   "execution_count": null,
   "metadata": {},
   "outputs": [],
   "source": [
    "categories = []\n",
    "ide = []\n",
    "for i,count in enumerate(list_counters):\n",
    "   # print(max(count))\n",
    "    categories.append(max(count, key=count.get))\n",
    "    ide.append(i)\n",
    "\n",
    "sub_mix = pd.DataFrame(categories, columns = ['category']) #, index=['id])', 'b', 'c']) \n",
    "sub_mix['id'] = ide\n",
    "sub_mix = sub_mix.set_index('id')1"
   ]
  },
  {
   "cell_type": "code",
   "execution_count": null,
   "metadata": {},
   "outputs": [],
   "source": [
    "sub_mix.to_csv(os.path.join(PATH_SUB, 'submission.csv'))"
   ]
  }
 ],
 "metadata": {
  "kernelspec": {
   "display_name": "cs231n",
   "language": "python",
   "name": "cs231n"
  },
  "language_info": {
   "codemirror_mode": {
    "name": "ipython",
    "version": 3
   },
   "file_extension": ".py",
   "mimetype": "text/x-python",
   "name": "python",
   "nbconvert_exporter": "python",
   "pygments_lexer": "ipython3",
   "version": "3.7.3"
  },
  "toc": {
   "base_numbering": 1,
   "nav_menu": {},
   "number_sections": true,
   "sideBar": true,
   "skip_h1_title": false,
   "title_cell": "Table of Contents",
   "title_sidebar": "Contents",
   "toc_cell": false,
   "toc_position": {},
   "toc_section_display": true,
   "toc_window_display": false
  }
 },
 "nbformat": 4,
 "nbformat_minor": 2
}
